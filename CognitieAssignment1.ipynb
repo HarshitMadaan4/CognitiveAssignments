{
  "nbformat": 4,
  "nbformat_minor": 0,
  "metadata": {
    "colab": {
      "provenance": []
    },
    "kernelspec": {
      "name": "python3",
      "display_name": "Python 3"
    },
    "language_info": {
      "name": "python"
    }
  },
  "cells": [
    {
      "cell_type": "markdown",
      "source": [
        "Q1.1WAP to print your name three times"
      ],
      "metadata": {
        "id": "48rwmO07GjTl"
      }
    },
    {
      "cell_type": "code",
      "execution_count": null,
      "metadata": {
        "colab": {
          "base_uri": "https://localhost:8080/"
        },
        "id": "Y7N4JfRXGeu5",
        "outputId": "05376668-dd4a-413d-c218-86ac207bbe3b"
      },
      "outputs": [
        {
          "output_type": "stream",
          "name": "stdout",
          "text": [
            "Harshit\n",
            "Harshit\n",
            "Harshit\n"
          ]
        }
      ],
      "source": [
        "print(\"Harshit\")\n",
        "print(\"Harshit\")\n",
        "print(\"Harshit\")"
      ]
    },
    {
      "cell_type": "markdown",
      "source": [
        "Q2.1WAP to add three numbers and print the result"
      ],
      "metadata": {
        "id": "hU3C4ZYmGxSF"
      }
    },
    {
      "cell_type": "code",
      "source": [
        "a=int(input('enter the value of a: '))\n",
        "b=int(input('enter the value of b: '))\n",
        "c=int(input('enter the value of c: '))\n",
        "\n",
        "print('sum is: '+ str(a+b+c))"
      ],
      "metadata": {
        "colab": {
          "base_uri": "https://localhost:8080/"
        },
        "id": "qrMqyexRGzmO",
        "outputId": "d441a3fd-1cb0-4a77-cc82-bc02213e5870"
      },
      "execution_count": null,
      "outputs": [
        {
          "output_type": "stream",
          "name": "stdout",
          "text": [
            "enter the value of a: 10\n",
            "enter the value of b: 20\n",
            "enter the value of c: 41\n",
            "sum is: 71\n"
          ]
        }
      ]
    },
    {
      "cell_type": "markdown",
      "source": [
        "Q2.2WAP to concatinate three strings and print the result"
      ],
      "metadata": {
        "id": "0tqodjfqG4ED"
      }
    },
    {
      "cell_type": "code",
      "source": [
        "str1=input('enter the first string: ')\n",
        "str2=input('enter the last string: ')\n",
        "str3=input('enter the middle string: ')\n",
        "\n",
        "print('concatenated string: '+ str1+' '+str2 + ' ' + str3)"
      ],
      "metadata": {
        "colab": {
          "base_uri": "https://localhost:8080/"
        },
        "id": "KvL2mLXmG7UD",
        "outputId": "c2dca61e-c4cc-4ae6-84cf-bf36b7caa203"
      },
      "execution_count": null,
      "outputs": [
        {
          "output_type": "stream",
          "name": "stdout",
          "text": [
            "enter the first name: one\n",
            "enter the last name: two\n",
            "enter the middle name: three\n",
            "concatenated string: one two three\n"
          ]
        }
      ]
    },
    {
      "cell_type": "markdown",
      "source": [
        "Assingment 4.1: WAP to print the table of 7, 9."
      ],
      "metadata": {
        "id": "hazpRMqMHId6"
      }
    },
    {
      "cell_type": "code",
      "source": [
        "for i in range(1,11):\n",
        "  print(str(7) + ' * ' + str(i)  + ' = ' + str(7*i))\n",
        "\n",
        "print('\\n')\n",
        "\n",
        "for i in range(1,11):\n",
        "  print(str(9) + ' * ' + str(i)  + ' = ' + str(9*i))"
      ],
      "metadata": {
        "colab": {
          "base_uri": "https://localhost:8080/"
        },
        "id": "pTT0izXVHg0r",
        "outputId": "51b6b1df-b8fb-4f19-a175-fef7fd415d13"
      },
      "execution_count": null,
      "outputs": [
        {
          "output_type": "stream",
          "name": "stdout",
          "text": [
            "7 * 1 = 7\n",
            "7 * 2 = 14\n",
            "7 * 3 = 21\n",
            "7 * 4 = 28\n",
            "7 * 5 = 35\n",
            "7 * 6 = 42\n",
            "7 * 7 = 49\n",
            "7 * 8 = 56\n",
            "7 * 9 = 63\n",
            "7 * 10 = 70\n",
            "\n",
            "\n",
            "9 * 1 = 9\n",
            "9 * 2 = 18\n",
            "9 * 3 = 27\n",
            "9 * 4 = 36\n",
            "9 * 5 = 45\n",
            "9 * 6 = 54\n",
            "9 * 7 = 63\n",
            "9 * 8 = 72\n",
            "9 * 9 = 81\n",
            "9 * 10 = 90\n"
          ]
        }
      ]
    },
    {
      "cell_type": "markdown",
      "source": [
        "Assingment 4.2: WAP to print the table of n and n is given by user."
      ],
      "metadata": {
        "id": "e11mNzfvK_Lq"
      }
    },
    {
      "cell_type": "code",
      "source": [
        "n=int(input('enter the number: '))\n",
        "for i in range(1,11):\n",
        "  print(str(n) + ' * ' + str(i)  + ' = ' + str(n*i))"
      ],
      "metadata": {
        "colab": {
          "base_uri": "https://localhost:8080/"
        },
        "id": "ICkyBA5YLEBL",
        "outputId": "01384946-0aa7-4dd2-9c25-10c5d775c00a"
      },
      "execution_count": null,
      "outputs": [
        {
          "output_type": "stream",
          "name": "stdout",
          "text": [
            "enter the number: 4\n",
            "4 * 1 = 4\n",
            "4 * 2 = 8\n",
            "4 * 3 = 12\n",
            "4 * 4 = 16\n",
            "4 * 5 = 20\n",
            "4 * 6 = 24\n",
            "4 * 7 = 28\n",
            "4 * 8 = 32\n",
            "4 * 9 = 36\n",
            "4 * 10 = 40\n"
          ]
        }
      ]
    },
    {
      "cell_type": "markdown",
      "source": [
        "Assingment 4.3: WAP to add all the numbers from 1 to n and n is given by user."
      ],
      "metadata": {
        "id": "eVf5K82XLq8m"
      }
    },
    {
      "cell_type": "code",
      "source": [
        "n=int(input('enter the number: '))\n",
        "sum=0\n",
        "for i in range(1,n+1):\n",
        "  sum+=i\n",
        "print('sum is: '+ str(sum))"
      ],
      "metadata": {
        "colab": {
          "base_uri": "https://localhost:8080/"
        },
        "id": "Fd4XcjjfLsKd",
        "outputId": "4525e7cb-2d37-4a93-fba8-370e79a08732"
      },
      "execution_count": null,
      "outputs": [
        {
          "output_type": "stream",
          "name": "stdout",
          "text": [
            "enter the number: 10\n",
            "sum is: 55\n"
          ]
        }
      ]
    },
    {
      "cell_type": "markdown",
      "source": [
        "Assingment 5.1: WAP to find max amoung three numbers and input from user. [Try max() function]"
      ],
      "metadata": {
        "id": "YtT4fe02MB-Q"
      }
    },
    {
      "cell_type": "code",
      "source": [
        "a=int(input('enter the value of a: '))\n",
        "b=int(input('enter the value of b: '))\n",
        "c=int(input('enter the value of c: '))\n",
        "\n",
        "maximum=max(a,b,c)\n",
        "print('maximum number is: '+ str(maximum))"
      ],
      "metadata": {
        "colab": {
          "base_uri": "https://localhost:8080/"
        },
        "id": "CZ0wBHJfMhih",
        "outputId": "ebb5fd7f-ef61-4c1b-e03a-929ca1fef645"
      },
      "execution_count": null,
      "outputs": [
        {
          "output_type": "stream",
          "name": "stdout",
          "text": [
            "enter the value of a: -2\n",
            "enter the value of b: 76\n",
            "enter the value of c: 100\n",
            "maximum number is: 100\n"
          ]
        }
      ]
    },
    {
      "cell_type": "markdown",
      "source": [
        "Assingment 5.2: WAP to add all numbers divisible by 7 and 9 from 1 to n and n is given by the user."
      ],
      "metadata": {
        "id": "R-VgWicrM9vx"
      }
    },
    {
      "cell_type": "code",
      "source": [
        "n=int(input('enter n: '))\n",
        "sum=0\n",
        "for i in range(1,n+1):\n",
        "  if(i%7==0 and i%9==0):\n",
        "    sum+=i\n",
        "print('sum is: '+ str(sum))"
      ],
      "metadata": {
        "colab": {
          "base_uri": "https://localhost:8080/"
        },
        "id": "g18CPqguNAyP",
        "outputId": "8cb9e63a-3fa6-403d-b4c6-33c04b92047e"
      },
      "execution_count": null,
      "outputs": [
        {
          "output_type": "stream",
          "name": "stdout",
          "text": [
            "enter n: 1000\n",
            "sum is: 7560\n"
          ]
        }
      ]
    },
    {
      "cell_type": "markdown",
      "source": [
        "Assingment 5.3: WAP to add all prime numbers from 1 to n and n is given by the user."
      ],
      "metadata": {
        "id": "UFKWFbzwOEk8"
      }
    },
    {
      "cell_type": "code",
      "source": [
        "n=int(input('enter n: '))\n",
        "sum=0\n",
        "for i in range(1,n+1):\n",
        "  if(i>1):\n",
        "    for j in range(2,i):\n",
        "      if(i%j==0):\n",
        "        break\n",
        "    else:\n",
        "      sum+=i\n",
        "print('sum is: '+ str(sum))"
      ],
      "metadata": {
        "colab": {
          "base_uri": "https://localhost:8080/"
        },
        "id": "Cfilbu-DOIkQ",
        "outputId": "84de01ed-2e96-4143-9935-1d953e74709c"
      },
      "execution_count": null,
      "outputs": [
        {
          "output_type": "stream",
          "name": "stdout",
          "text": [
            "enter n: 100\n",
            "sum is: 1060\n"
          ]
        }
      ]
    },
    {
      "cell_type": "markdown",
      "source": [
        "Assingment 6.1: WAP using function that add all odd numbers from 1 to n, n is given by the user."
      ],
      "metadata": {
        "id": "jdn6NMM9Os0t"
      }
    },
    {
      "cell_type": "code",
      "source": [
        "def sumOdd(n):\n",
        "  sum=0\n",
        "  for i in range(1,n+1):\n",
        "    if(i%2!=0):\n",
        "      sum+=i\n",
        "  return sum\n",
        "\n",
        "n=int(input('enter n: '))\n",
        "sumOdd(n)"
      ],
      "metadata": {
        "colab": {
          "base_uri": "https://localhost:8080/"
        },
        "id": "1U-IqIETOtvA",
        "outputId": "c822d920-c67d-49a7-e8c6-c8ec3970a0b9"
      },
      "execution_count": null,
      "outputs": [
        {
          "name": "stdout",
          "output_type": "stream",
          "text": [
            "enter n: 60\n"
          ]
        },
        {
          "output_type": "execute_result",
          "data": {
            "text/plain": [
              "900"
            ]
          },
          "metadata": {},
          "execution_count": 18
        }
      ]
    },
    {
      "cell_type": "markdown",
      "source": [
        "Assingment 6.2: WAP using function that add all prime numbers from 1 to n, n given by the user."
      ],
      "metadata": {
        "id": "CLLZrgGCPBc2"
      }
    },
    {
      "cell_type": "code",
      "source": [
        "def sumPrime(n):\n",
        "  sum=0\n",
        "  for i in range(1,n+1):\n",
        "    if(i>1):\n",
        "      for j in range(2,i):\n",
        "        if(i%j==0):\n",
        "          break\n",
        "      else:\n",
        "        sum+=i\n",
        "  return sum\n",
        "\n",
        "n=int(input('enter n: '))\n",
        "sumPrime(n)"
      ],
      "metadata": {
        "colab": {
          "base_uri": "https://localhost:8080/"
        },
        "id": "NPtSqZ4FPCLg",
        "outputId": "b1ed83f9-e42d-439b-d4ab-3363c732bac3"
      },
      "execution_count": null,
      "outputs": [
        {
          "name": "stdout",
          "output_type": "stream",
          "text": [
            "enter n: 40\n"
          ]
        },
        {
          "output_type": "execute_result",
          "data": {
            "text/plain": [
              "197"
            ]
          },
          "metadata": {},
          "execution_count": 19
        }
      ]
    }
  ]
}